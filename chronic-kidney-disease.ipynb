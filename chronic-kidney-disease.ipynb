{
 "cells": [
  {
   "cell_type": "markdown",
   "id": "prescription-onion",
   "metadata": {},
   "source": [
    "# Predicting chronic kidney disease using machine learning\n",
    "This notebook looks into using various Python-based machine learning and data science libraries in an attempt to build a machine learning model capable of predicting whether or not someone has a chronic kidney disease based on their medical attributes.\n",
    "\n",
    "## Problem Defenition\n",
    "In a statement,\n",
    "> Given clinical parameters about patients, can we predict whether or not they have a chronic kidney disease? This is a binary classification problem.\n",
    "\n",
    "## Data\n",
    "This dataset is originally from UCI Machine Learning Repository. However, this is a cleaned dataset from Kaggle.\n",
    "https://www.kaggle.com/abhia1999/chronic-kidney-disease"
   ]
  },
  {
   "cell_type": "markdown",
   "id": "ceramic-adelaide",
   "metadata": {},
   "source": [
    "## Preparing the tools"
   ]
  },
  {
   "cell_type": "code",
   "execution_count": 1,
   "id": "broadband-kansas",
   "metadata": {},
   "outputs": [],
   "source": [
    "#Importing EDA (Exploratory Data Analysis) and other Libraries \n",
    "import numpy as np\n",
    "import pandas as pd\n",
    "import matplotlib.pyplot as plt\n",
    "import seaborn as sns\n",
    "%matplotlib inline\n",
    "\n",
    "#Import Sklearn Models\n",
    "from sklearn.ensemble import RandomForestClassifier\n",
    "\n",
    "#Model Evaluations\n",
    "from sklearn.model_selection import train_test_split, cross_val_score\n",
    "from sklearn.metrics import classification_report\n",
    "from sklearn.metrics import plot_roc_curve\n",
    "from sklearn.metrics import plot_confusion_matrix"
   ]
  },
  {
   "cell_type": "markdown",
   "id": "internal-spending",
   "metadata": {},
   "source": [
    "## Load the Data"
   ]
  },
  {
   "cell_type": "code",
   "execution_count": 2,
   "id": "economic-engagement",
   "metadata": {},
   "outputs": [
    {
     "data": {
      "text/html": [
       "<div>\n",
       "<style scoped>\n",
       "    .dataframe tbody tr th:only-of-type {\n",
       "        vertical-align: middle;\n",
       "    }\n",
       "\n",
       "    .dataframe tbody tr th {\n",
       "        vertical-align: top;\n",
       "    }\n",
       "\n",
       "    .dataframe thead th {\n",
       "        text-align: right;\n",
       "    }\n",
       "</style>\n",
       "<table border=\"1\" class=\"dataframe\">\n",
       "  <thead>\n",
       "    <tr style=\"text-align: right;\">\n",
       "      <th></th>\n",
       "      <th>Bp</th>\n",
       "      <th>Sg</th>\n",
       "      <th>Al</th>\n",
       "      <th>Su</th>\n",
       "      <th>Rbc</th>\n",
       "      <th>Bu</th>\n",
       "      <th>Sc</th>\n",
       "      <th>Sod</th>\n",
       "      <th>Pot</th>\n",
       "      <th>Hemo</th>\n",
       "      <th>Wbcc</th>\n",
       "      <th>Rbcc</th>\n",
       "      <th>Htn</th>\n",
       "      <th>Class</th>\n",
       "    </tr>\n",
       "  </thead>\n",
       "  <tbody>\n",
       "    <tr>\n",
       "      <th>0</th>\n",
       "      <td>80.0</td>\n",
       "      <td>1.020</td>\n",
       "      <td>1.0</td>\n",
       "      <td>0.0</td>\n",
       "      <td>1.0</td>\n",
       "      <td>36.0</td>\n",
       "      <td>1.2</td>\n",
       "      <td>137.53</td>\n",
       "      <td>4.63</td>\n",
       "      <td>15.4</td>\n",
       "      <td>7800.0</td>\n",
       "      <td>5.20</td>\n",
       "      <td>1.0</td>\n",
       "      <td>1</td>\n",
       "    </tr>\n",
       "    <tr>\n",
       "      <th>1</th>\n",
       "      <td>50.0</td>\n",
       "      <td>1.020</td>\n",
       "      <td>4.0</td>\n",
       "      <td>0.0</td>\n",
       "      <td>1.0</td>\n",
       "      <td>18.0</td>\n",
       "      <td>0.8</td>\n",
       "      <td>137.53</td>\n",
       "      <td>4.63</td>\n",
       "      <td>11.3</td>\n",
       "      <td>6000.0</td>\n",
       "      <td>4.71</td>\n",
       "      <td>0.0</td>\n",
       "      <td>1</td>\n",
       "    </tr>\n",
       "    <tr>\n",
       "      <th>2</th>\n",
       "      <td>80.0</td>\n",
       "      <td>1.010</td>\n",
       "      <td>2.0</td>\n",
       "      <td>3.0</td>\n",
       "      <td>1.0</td>\n",
       "      <td>53.0</td>\n",
       "      <td>1.8</td>\n",
       "      <td>137.53</td>\n",
       "      <td>4.63</td>\n",
       "      <td>9.6</td>\n",
       "      <td>7500.0</td>\n",
       "      <td>4.71</td>\n",
       "      <td>0.0</td>\n",
       "      <td>1</td>\n",
       "    </tr>\n",
       "    <tr>\n",
       "      <th>3</th>\n",
       "      <td>70.0</td>\n",
       "      <td>1.005</td>\n",
       "      <td>4.0</td>\n",
       "      <td>0.0</td>\n",
       "      <td>1.0</td>\n",
       "      <td>56.0</td>\n",
       "      <td>3.8</td>\n",
       "      <td>111.00</td>\n",
       "      <td>2.50</td>\n",
       "      <td>11.2</td>\n",
       "      <td>6700.0</td>\n",
       "      <td>3.90</td>\n",
       "      <td>1.0</td>\n",
       "      <td>1</td>\n",
       "    </tr>\n",
       "    <tr>\n",
       "      <th>4</th>\n",
       "      <td>80.0</td>\n",
       "      <td>1.010</td>\n",
       "      <td>2.0</td>\n",
       "      <td>0.0</td>\n",
       "      <td>1.0</td>\n",
       "      <td>26.0</td>\n",
       "      <td>1.4</td>\n",
       "      <td>137.53</td>\n",
       "      <td>4.63</td>\n",
       "      <td>11.6</td>\n",
       "      <td>7300.0</td>\n",
       "      <td>4.60</td>\n",
       "      <td>0.0</td>\n",
       "      <td>1</td>\n",
       "    </tr>\n",
       "    <tr>\n",
       "      <th>5</th>\n",
       "      <td>90.0</td>\n",
       "      <td>1.015</td>\n",
       "      <td>3.0</td>\n",
       "      <td>0.0</td>\n",
       "      <td>1.0</td>\n",
       "      <td>25.0</td>\n",
       "      <td>1.1</td>\n",
       "      <td>142.00</td>\n",
       "      <td>3.20</td>\n",
       "      <td>12.2</td>\n",
       "      <td>7800.0</td>\n",
       "      <td>4.40</td>\n",
       "      <td>1.0</td>\n",
       "      <td>1</td>\n",
       "    </tr>\n",
       "    <tr>\n",
       "      <th>6</th>\n",
       "      <td>70.0</td>\n",
       "      <td>1.010</td>\n",
       "      <td>0.0</td>\n",
       "      <td>0.0</td>\n",
       "      <td>1.0</td>\n",
       "      <td>54.0</td>\n",
       "      <td>24.0</td>\n",
       "      <td>104.00</td>\n",
       "      <td>4.00</td>\n",
       "      <td>12.4</td>\n",
       "      <td>8406.0</td>\n",
       "      <td>4.71</td>\n",
       "      <td>0.0</td>\n",
       "      <td>1</td>\n",
       "    </tr>\n",
       "    <tr>\n",
       "      <th>7</th>\n",
       "      <td>76.0</td>\n",
       "      <td>1.015</td>\n",
       "      <td>2.0</td>\n",
       "      <td>4.0</td>\n",
       "      <td>1.0</td>\n",
       "      <td>31.0</td>\n",
       "      <td>1.1</td>\n",
       "      <td>137.53</td>\n",
       "      <td>4.63</td>\n",
       "      <td>12.4</td>\n",
       "      <td>6900.0</td>\n",
       "      <td>5.00</td>\n",
       "      <td>0.0</td>\n",
       "      <td>1</td>\n",
       "    </tr>\n",
       "    <tr>\n",
       "      <th>8</th>\n",
       "      <td>100.0</td>\n",
       "      <td>1.015</td>\n",
       "      <td>3.0</td>\n",
       "      <td>0.0</td>\n",
       "      <td>1.0</td>\n",
       "      <td>60.0</td>\n",
       "      <td>1.9</td>\n",
       "      <td>137.53</td>\n",
       "      <td>4.63</td>\n",
       "      <td>10.8</td>\n",
       "      <td>9600.0</td>\n",
       "      <td>4.00</td>\n",
       "      <td>1.0</td>\n",
       "      <td>1</td>\n",
       "    </tr>\n",
       "    <tr>\n",
       "      <th>9</th>\n",
       "      <td>90.0</td>\n",
       "      <td>1.020</td>\n",
       "      <td>2.0</td>\n",
       "      <td>0.0</td>\n",
       "      <td>0.0</td>\n",
       "      <td>107.0</td>\n",
       "      <td>7.2</td>\n",
       "      <td>114.00</td>\n",
       "      <td>3.70</td>\n",
       "      <td>9.5</td>\n",
       "      <td>12100.0</td>\n",
       "      <td>3.70</td>\n",
       "      <td>1.0</td>\n",
       "      <td>1</td>\n",
       "    </tr>\n",
       "  </tbody>\n",
       "</table>\n",
       "</div>"
      ],
      "text/plain": [
       "      Bp     Sg   Al   Su  Rbc     Bu    Sc     Sod   Pot  Hemo     Wbcc  \\\n",
       "0   80.0  1.020  1.0  0.0  1.0   36.0   1.2  137.53  4.63  15.4   7800.0   \n",
       "1   50.0  1.020  4.0  0.0  1.0   18.0   0.8  137.53  4.63  11.3   6000.0   \n",
       "2   80.0  1.010  2.0  3.0  1.0   53.0   1.8  137.53  4.63   9.6   7500.0   \n",
       "3   70.0  1.005  4.0  0.0  1.0   56.0   3.8  111.00  2.50  11.2   6700.0   \n",
       "4   80.0  1.010  2.0  0.0  1.0   26.0   1.4  137.53  4.63  11.6   7300.0   \n",
       "5   90.0  1.015  3.0  0.0  1.0   25.0   1.1  142.00  3.20  12.2   7800.0   \n",
       "6   70.0  1.010  0.0  0.0  1.0   54.0  24.0  104.00  4.00  12.4   8406.0   \n",
       "7   76.0  1.015  2.0  4.0  1.0   31.0   1.1  137.53  4.63  12.4   6900.0   \n",
       "8  100.0  1.015  3.0  0.0  1.0   60.0   1.9  137.53  4.63  10.8   9600.0   \n",
       "9   90.0  1.020  2.0  0.0  0.0  107.0   7.2  114.00  3.70   9.5  12100.0   \n",
       "\n",
       "   Rbcc  Htn  Class  \n",
       "0  5.20  1.0      1  \n",
       "1  4.71  0.0      1  \n",
       "2  4.71  0.0      1  \n",
       "3  3.90  1.0      1  \n",
       "4  4.60  0.0      1  \n",
       "5  4.40  1.0      1  \n",
       "6  4.71  0.0      1  \n",
       "7  5.00  0.0      1  \n",
       "8  4.00  1.0      1  \n",
       "9  3.70  1.0      1  "
      ]
     },
     "execution_count": 2,
     "metadata": {},
     "output_type": "execute_result"
    }
   ],
   "source": [
    "df=pd.read_csv(\"chronic-kidney-disease.csv\")\n",
    "df.head(10)"
   ]
  },
  {
   "cell_type": "code",
   "execution_count": 3,
   "id": "ordinary-history",
   "metadata": {},
   "outputs": [
    {
     "data": {
      "text/html": [
       "<div>\n",
       "<style scoped>\n",
       "    .dataframe tbody tr th:only-of-type {\n",
       "        vertical-align: middle;\n",
       "    }\n",
       "\n",
       "    .dataframe tbody tr th {\n",
       "        vertical-align: top;\n",
       "    }\n",
       "\n",
       "    .dataframe thead th {\n",
       "        text-align: right;\n",
       "    }\n",
       "</style>\n",
       "<table border=\"1\" class=\"dataframe\">\n",
       "  <thead>\n",
       "    <tr style=\"text-align: right;\">\n",
       "      <th></th>\n",
       "      <th>Bp</th>\n",
       "      <th>Sg</th>\n",
       "      <th>Al</th>\n",
       "      <th>Su</th>\n",
       "      <th>Rbc</th>\n",
       "      <th>Bu</th>\n",
       "      <th>Sc</th>\n",
       "      <th>Sod</th>\n",
       "      <th>Pot</th>\n",
       "      <th>Hemo</th>\n",
       "      <th>Wbcc</th>\n",
       "      <th>Rbcc</th>\n",
       "      <th>Htn</th>\n",
       "      <th>Class</th>\n",
       "    </tr>\n",
       "  </thead>\n",
       "  <tbody>\n",
       "    <tr>\n",
       "      <th>390</th>\n",
       "      <td>80.0</td>\n",
       "      <td>1.025</td>\n",
       "      <td>0.0</td>\n",
       "      <td>0.0</td>\n",
       "      <td>1.0</td>\n",
       "      <td>25.0</td>\n",
       "      <td>0.8</td>\n",
       "      <td>135.0</td>\n",
       "      <td>3.7</td>\n",
       "      <td>15.0</td>\n",
       "      <td>6300.0</td>\n",
       "      <td>5.3</td>\n",
       "      <td>0.0</td>\n",
       "      <td>0</td>\n",
       "    </tr>\n",
       "    <tr>\n",
       "      <th>391</th>\n",
       "      <td>80.0</td>\n",
       "      <td>1.025</td>\n",
       "      <td>0.0</td>\n",
       "      <td>0.0</td>\n",
       "      <td>1.0</td>\n",
       "      <td>16.0</td>\n",
       "      <td>1.1</td>\n",
       "      <td>142.0</td>\n",
       "      <td>4.1</td>\n",
       "      <td>15.6</td>\n",
       "      <td>5800.0</td>\n",
       "      <td>6.3</td>\n",
       "      <td>0.0</td>\n",
       "      <td>0</td>\n",
       "    </tr>\n",
       "    <tr>\n",
       "      <th>392</th>\n",
       "      <td>80.0</td>\n",
       "      <td>1.020</td>\n",
       "      <td>0.0</td>\n",
       "      <td>0.0</td>\n",
       "      <td>1.0</td>\n",
       "      <td>48.0</td>\n",
       "      <td>1.2</td>\n",
       "      <td>147.0</td>\n",
       "      <td>4.3</td>\n",
       "      <td>14.8</td>\n",
       "      <td>6600.0</td>\n",
       "      <td>5.5</td>\n",
       "      <td>0.0</td>\n",
       "      <td>0</td>\n",
       "    </tr>\n",
       "    <tr>\n",
       "      <th>393</th>\n",
       "      <td>60.0</td>\n",
       "      <td>1.025</td>\n",
       "      <td>0.0</td>\n",
       "      <td>0.0</td>\n",
       "      <td>1.0</td>\n",
       "      <td>45.0</td>\n",
       "      <td>0.7</td>\n",
       "      <td>141.0</td>\n",
       "      <td>4.4</td>\n",
       "      <td>13.0</td>\n",
       "      <td>7400.0</td>\n",
       "      <td>5.4</td>\n",
       "      <td>0.0</td>\n",
       "      <td>0</td>\n",
       "    </tr>\n",
       "    <tr>\n",
       "      <th>394</th>\n",
       "      <td>80.0</td>\n",
       "      <td>1.020</td>\n",
       "      <td>0.0</td>\n",
       "      <td>0.0</td>\n",
       "      <td>1.0</td>\n",
       "      <td>46.0</td>\n",
       "      <td>0.8</td>\n",
       "      <td>139.0</td>\n",
       "      <td>5.0</td>\n",
       "      <td>14.1</td>\n",
       "      <td>9500.0</td>\n",
       "      <td>4.6</td>\n",
       "      <td>0.0</td>\n",
       "      <td>0</td>\n",
       "    </tr>\n",
       "    <tr>\n",
       "      <th>395</th>\n",
       "      <td>80.0</td>\n",
       "      <td>1.020</td>\n",
       "      <td>0.0</td>\n",
       "      <td>0.0</td>\n",
       "      <td>1.0</td>\n",
       "      <td>49.0</td>\n",
       "      <td>0.5</td>\n",
       "      <td>150.0</td>\n",
       "      <td>4.9</td>\n",
       "      <td>15.7</td>\n",
       "      <td>6700.0</td>\n",
       "      <td>4.9</td>\n",
       "      <td>0.0</td>\n",
       "      <td>0</td>\n",
       "    </tr>\n",
       "    <tr>\n",
       "      <th>396</th>\n",
       "      <td>70.0</td>\n",
       "      <td>1.025</td>\n",
       "      <td>0.0</td>\n",
       "      <td>0.0</td>\n",
       "      <td>1.0</td>\n",
       "      <td>31.0</td>\n",
       "      <td>1.2</td>\n",
       "      <td>141.0</td>\n",
       "      <td>3.5</td>\n",
       "      <td>16.5</td>\n",
       "      <td>7800.0</td>\n",
       "      <td>6.2</td>\n",
       "      <td>0.0</td>\n",
       "      <td>0</td>\n",
       "    </tr>\n",
       "    <tr>\n",
       "      <th>397</th>\n",
       "      <td>80.0</td>\n",
       "      <td>1.020</td>\n",
       "      <td>0.0</td>\n",
       "      <td>0.0</td>\n",
       "      <td>1.0</td>\n",
       "      <td>26.0</td>\n",
       "      <td>0.6</td>\n",
       "      <td>137.0</td>\n",
       "      <td>4.4</td>\n",
       "      <td>15.8</td>\n",
       "      <td>6600.0</td>\n",
       "      <td>5.4</td>\n",
       "      <td>0.0</td>\n",
       "      <td>0</td>\n",
       "    </tr>\n",
       "    <tr>\n",
       "      <th>398</th>\n",
       "      <td>60.0</td>\n",
       "      <td>1.025</td>\n",
       "      <td>0.0</td>\n",
       "      <td>0.0</td>\n",
       "      <td>1.0</td>\n",
       "      <td>50.0</td>\n",
       "      <td>1.0</td>\n",
       "      <td>135.0</td>\n",
       "      <td>4.9</td>\n",
       "      <td>14.2</td>\n",
       "      <td>7200.0</td>\n",
       "      <td>5.9</td>\n",
       "      <td>0.0</td>\n",
       "      <td>0</td>\n",
       "    </tr>\n",
       "    <tr>\n",
       "      <th>399</th>\n",
       "      <td>80.0</td>\n",
       "      <td>1.025</td>\n",
       "      <td>0.0</td>\n",
       "      <td>0.0</td>\n",
       "      <td>1.0</td>\n",
       "      <td>18.0</td>\n",
       "      <td>1.1</td>\n",
       "      <td>141.0</td>\n",
       "      <td>3.5</td>\n",
       "      <td>15.8</td>\n",
       "      <td>6800.0</td>\n",
       "      <td>6.1</td>\n",
       "      <td>0.0</td>\n",
       "      <td>0</td>\n",
       "    </tr>\n",
       "  </tbody>\n",
       "</table>\n",
       "</div>"
      ],
      "text/plain": [
       "       Bp     Sg   Al   Su  Rbc    Bu   Sc    Sod  Pot  Hemo    Wbcc  Rbcc  \\\n",
       "390  80.0  1.025  0.0  0.0  1.0  25.0  0.8  135.0  3.7  15.0  6300.0   5.3   \n",
       "391  80.0  1.025  0.0  0.0  1.0  16.0  1.1  142.0  4.1  15.6  5800.0   6.3   \n",
       "392  80.0  1.020  0.0  0.0  1.0  48.0  1.2  147.0  4.3  14.8  6600.0   5.5   \n",
       "393  60.0  1.025  0.0  0.0  1.0  45.0  0.7  141.0  4.4  13.0  7400.0   5.4   \n",
       "394  80.0  1.020  0.0  0.0  1.0  46.0  0.8  139.0  5.0  14.1  9500.0   4.6   \n",
       "395  80.0  1.020  0.0  0.0  1.0  49.0  0.5  150.0  4.9  15.7  6700.0   4.9   \n",
       "396  70.0  1.025  0.0  0.0  1.0  31.0  1.2  141.0  3.5  16.5  7800.0   6.2   \n",
       "397  80.0  1.020  0.0  0.0  1.0  26.0  0.6  137.0  4.4  15.8  6600.0   5.4   \n",
       "398  60.0  1.025  0.0  0.0  1.0  50.0  1.0  135.0  4.9  14.2  7200.0   5.9   \n",
       "399  80.0  1.025  0.0  0.0  1.0  18.0  1.1  141.0  3.5  15.8  6800.0   6.1   \n",
       "\n",
       "     Htn  Class  \n",
       "390  0.0      0  \n",
       "391  0.0      0  \n",
       "392  0.0      0  \n",
       "393  0.0      0  \n",
       "394  0.0      0  \n",
       "395  0.0      0  \n",
       "396  0.0      0  \n",
       "397  0.0      0  \n",
       "398  0.0      0  \n",
       "399  0.0      0  "
      ]
     },
     "execution_count": 3,
     "metadata": {},
     "output_type": "execute_result"
    }
   ],
   "source": [
    "df.tail(10)"
   ]
  },
  {
   "cell_type": "markdown",
   "id": "emotional-favor",
   "metadata": {},
   "source": [
    "***Checking for missing data***"
   ]
  },
  {
   "cell_type": "code",
   "execution_count": 4,
   "id": "developing-international",
   "metadata": {},
   "outputs": [
    {
     "name": "stdout",
     "output_type": "stream",
     "text": [
      "<class 'pandas.core.frame.DataFrame'>\n",
      "RangeIndex: 400 entries, 0 to 399\n",
      "Data columns (total 14 columns):\n",
      " #   Column  Non-Null Count  Dtype  \n",
      "---  ------  --------------  -----  \n",
      " 0   Bp      400 non-null    float64\n",
      " 1   Sg      400 non-null    float64\n",
      " 2   Al      400 non-null    float64\n",
      " 3   Su      400 non-null    float64\n",
      " 4   Rbc     400 non-null    float64\n",
      " 5   Bu      400 non-null    float64\n",
      " 6   Sc      400 non-null    float64\n",
      " 7   Sod     400 non-null    float64\n",
      " 8   Pot     400 non-null    float64\n",
      " 9   Hemo    400 non-null    float64\n",
      " 10  Wbcc    400 non-null    float64\n",
      " 11  Rbcc    400 non-null    float64\n",
      " 12  Htn     400 non-null    float64\n",
      " 13  Class   400 non-null    int64  \n",
      "dtypes: float64(13), int64(1)\n",
      "memory usage: 43.9 KB\n"
     ]
    }
   ],
   "source": [
    "df.info()"
   ]
  },
  {
   "cell_type": "markdown",
   "id": "israeli-former",
   "metadata": {},
   "source": [
    "## Shuffle the data\n",
    "> *As we can see the Class=1 means the patient has a chronic kidney disease and the Class=0 means that the patient doesn't have chronic kidney disease. However, the dataset is not shuffled so we need to do that next. Note that we will also reset the index.*"
   ]
  },
  {
   "cell_type": "code",
   "execution_count": 5,
   "id": "sophisticated-timeline",
   "metadata": {},
   "outputs": [],
   "source": [
    "np.random.seed(42)\n",
    "df= df.sample(frac=1).reset_index(drop=True)"
   ]
  },
  {
   "cell_type": "markdown",
   "id": "signal-briefs",
   "metadata": {},
   "source": [
    "> *Another thing we need to look into is that if the sample data is balanced, meaning that it is not biased towards patients with chronic kidney disease or vice versa.*"
   ]
  },
  {
   "cell_type": "code",
   "execution_count": 6,
   "id": "mineral-conference",
   "metadata": {},
   "outputs": [
    {
     "data": {
      "text/plain": [
       "{'Diseased Patients': 250, 'Undiseased Patients': 150}"
      ]
     },
     "execution_count": 6,
     "metadata": {},
     "output_type": "execute_result"
    }
   ],
   "source": [
    "KCD={}\n",
    "KCD['Diseased Patients']= df[\"Class\"].value_counts()[1]\n",
    "KCD['Undiseased Patients']= df[\"Class\"].value_counts()[0]\n",
    "KCD"
   ]
  },
  {
   "cell_type": "code",
   "execution_count": 7,
   "id": "sexual-cisco",
   "metadata": {},
   "outputs": [
    {
     "data": {
      "image/png": "[encoded data removed]",
      "text/plain": [
       "<Figure size 432x432 with 1 Axes>"
      ]
     },
     "metadata": {
      "needs_background": "light"
     },
     "output_type": "display_data"
    }
   ],
   "source": [
    "fig, ax = plt.subplots(figsize=(6,6))\n",
    "ax.bar(KCD.keys(),KCD.values(),color=['salmon','lightblue']) ##Red for the diseased patients, Green for the undiseased patients.\n",
    "ax.set(title=\"Kidney Chronic Disease Data Distribution\",ylabel=\"Number of Patients per Class \");"
   ]
  },
  {
   "cell_type": "markdown",
   "id": "other-queens",
   "metadata": {},
   "source": [
    "> *As we can see the dataset is unbalanced, however we will proceed with building the machine learning model in order to see if the model will be biased by this i.e. we will observe if the model favors predicting patient's as being diseased.*\n",
    "\n",
    "## Split the data\n",
    "***We will start of by splitting the dataset into training and validation sets. We will do an 70%- 30% split.***"
   ]
  },
  {
   "cell_type": "code",
   "execution_count": 8,
   "id": "crude-syria",
   "metadata": {},
   "outputs": [
    {
     "data": {
      "text/plain": [
       "((280, 14), (120, 14))"
      ]
     },
     "execution_count": 8,
     "metadata": {},
     "output_type": "execute_result"
    }
   ],
   "source": [
    "X_train, X_val = train_test_split(df, test_size=0.3, random_state=42)\n",
    "X_train.shape, X_val.shape"
   ]
  },
  {
   "cell_type": "markdown",
   "id": "young-meditation",
   "metadata": {},
   "source": [
    "> Separate the features from the target variable"
   ]
  },
  {
   "cell_type": "code",
   "execution_count": 9,
   "id": "plastic-hawaii",
   "metadata": {},
   "outputs": [
    {
     "data": {
      "text/plain": [
       "((280, 13), (280,), (120, 13), (120,))"
      ]
     },
     "execution_count": 9,
     "metadata": {},
     "output_type": "execute_result"
    }
   ],
   "source": [
    "y_train = X_train.pop(\"Class\")\n",
    "y_val = X_val.pop(\"Class\")\n",
    "X_train.shape,y_train.shape, X_val.shape,y_val.shape"
   ]
  },
  {
   "cell_type": "markdown",
   "id": "empirical-tradition",
   "metadata": {},
   "source": [
    "## Modeling\n",
    "> Now that the data is ready, we can start creating our model! Since this is a Classification problem, I will start by trying the Random Forest Classifier."
   ]
  },
  {
   "cell_type": "code",
   "execution_count": 10,
   "id": "raising-seminar",
   "metadata": {},
   "outputs": [
    {
     "name": "stdout",
     "output_type": "stream",
     "text": [
      "1.0\n",
      "1.0\n"
     ]
    }
   ],
   "source": [
    "np.random.seed(42)\n",
    "model = RandomForestClassifier(n_estimators=10)\n",
    "model = model.fit(X_train, y_train)\n",
    "\n",
    "print(model.score(X_train, y_train))\n",
    "print(model.score(X_val, y_val))"
   ]
  },
  {
   "cell_type": "markdown",
   "id": "aging-hungarian",
   "metadata": {},
   "source": [
    "### As you can see, we got a very high score using the Random Forest Classifier.\n",
    "***And the reason for that is:***\n",
    "\n",
    "* 1: We are using a Kaggle data set that is already cleaned and has the appropriate features that have a high correlation with the target \"Class\". As we can see from the correlation table below a lot of the features have a high correlation with the target \"Class\".\n",
    "* 2: We used a Random Forest Classifier for our classification problem which is a powerful ensembled model.\n",
    "* 3: In addition to the reasons above, we only have 400 records which means that our model was able to fit the data easily, thus the 1.0 score on the training set."
   ]
  },
  {
   "cell_type": "code",
   "execution_count": 11,
   "id": "weird-carnival",
   "metadata": {},
   "outputs": [
    {
     "data": {
      "image/png": "[encoded data removed]",
      "text/plain": [
       "<Figure size 1080x720 with 2 Axes>"
      ]
     },
     "metadata": {
      "needs_background": "light"
     },
     "output_type": "display_data"
    }
   ],
   "source": [
    "corr_matrix = df.corr()\n",
    "fig, ax= plt.subplots(figsize=(15,10))\n",
    "ax = sns.heatmap(corr_matrix,\n",
    "                 annot=True,\n",
    "                 linewidths=0.5,\n",
    "                 fmt=\".2f\",\n",
    "                 cmap=\"YlGnBu\")"
   ]
  },
  {
   "cell_type": "markdown",
   "id": "developed-practitioner",
   "metadata": {},
   "source": [
    "## Experimenting\n",
    "> However, the model is clearly overfitting the data, and we need to have some generalization. We will use cross validation to see effects of this overfitting. I'm mainly interested in the Accuracy and F1 metrics."
   ]
  },
  {
   "cell_type": "code",
   "execution_count": 12,
   "id": "blocked-native",
   "metadata": {},
   "outputs": [
    {
     "data": {
      "text/plain": [
       "((400, 13), (400,))"
      ]
     },
     "execution_count": 12,
     "metadata": {},
     "output_type": "execute_result"
    }
   ],
   "source": [
    "X = pd.concat([X_train, X_val])\n",
    "y = pd.concat([y_train, y_val])\n",
    "X.shape, y.shape"
   ]
  },
  {
   "cell_type": "code",
   "execution_count": 13,
   "id": "accepted-armor",
   "metadata": {},
   "outputs": [
    {
     "name": "stdout",
     "output_type": "stream",
     "text": [
      "Cross-val-accuracy-score: 0.985\n",
      "Cross-val-F1-score: 0.9902143612419494\n"
     ]
    }
   ],
   "source": [
    "cv_acc = np.mean(cross_val_score(model,\n",
    "                                 X,\n",
    "                                 y,\n",
    "                                 cv=5,\n",
    "                                 scoring=\"accuracy\"))\n",
    "\n",
    "cv_f1 = np.mean(cross_val_score(model,\n",
    "                                 X,\n",
    "                                 y,\n",
    "                                 cv=5,\n",
    "                                 scoring=\"f1\"))\n",
    "\n",
    "print(\"Cross-val-accuracy-score:\",cv_acc)\n",
    "print(\"Cross-val-F1-score:\",cv_f1)"
   ]
  },
  {
   "cell_type": "markdown",
   "id": "binding-camel",
   "metadata": {},
   "source": [
    "> ***We will change some of the hyperparameters in order to get a regularizing effect, such as the decreasing the max_leaf_nodes, and increasing the n_estimators.***"
   ]
  },
  {
   "cell_type": "code",
   "execution_count": 14,
   "id": "conceptual-marshall",
   "metadata": {},
   "outputs": [
    {
     "name": "stdout",
     "output_type": "stream",
     "text": [
      "1.0\n",
      "0.9916666666666667\n"
     ]
    }
   ],
   "source": [
    "from sklearn.ensemble import RandomForestClassifier\n",
    "np.random.seed(42)\n",
    "model2 = RandomForestClassifier(n_estimators=200, max_leaf_nodes=10)\n",
    "model2 = model2.fit(X_train, y_train)\n",
    "\n",
    "print(model2.score(X_train, y_train))\n",
    "print(model2.score(X_val, y_val))"
   ]
  },
  {
   "cell_type": "code",
   "execution_count": 15,
   "id": "sensitive-phrase",
   "metadata": {},
   "outputs": [
    {
     "name": "stdout",
     "output_type": "stream",
     "text": [
      "Cross-val-accuracy-score: 0.99\n",
      "Cross-val-F1-score: 0.992039203920392\n"
     ]
    }
   ],
   "source": [
    "np.random.seed(42)\n",
    "cv_acc = np.mean(cross_val_score(model2,\n",
    "                                 X,\n",
    "                                 y,\n",
    "                                 cv=5,\n",
    "                                 scoring=\"accuracy\"))\n",
    "\n",
    "cv_f1 = np.mean(cross_val_score(model2,\n",
    "                                 X,\n",
    "                                 y,\n",
    "                                 cv=5,\n",
    "                                 scoring=\"f1\"))\n",
    "\n",
    "print(\"Cross-val-accuracy-score:\",cv_acc)\n",
    "print(\"Cross-val-F1-score:\",cv_f1)"
   ]
  },
  {
   "cell_type": "markdown",
   "id": "fifth-variety",
   "metadata": {},
   "source": [
    "### This model generalizes better as observed by the cross validation F1 and Accuracy scores. So, we will be using it.\n",
    "***Now let's view some other evaluation metrics such as:***\n",
    "* 1:Confusion Matrix\n",
    "* 2:Classification Report\n",
    "* 3:ROC Curve\n"
   ]
  },
  {
   "cell_type": "code",
   "execution_count": 16,
   "id": "smooth-profit",
   "metadata": {},
   "outputs": [
    {
     "data": {
      "text/plain": [
       "<sklearn.metrics._plot.confusion_matrix.ConfusionMatrixDisplay at 0x178bf75f2b0>"
      ]
     },
     "execution_count": 16,
     "metadata": {},
     "output_type": "execute_result"
    },
    {
     "data": {
      "image/png": "[encoded data removed]",
      "text/plain": [
       "<Figure size 432x288 with 2 Axes>"
      ]
     },
     "metadata": {
      "needs_background": "light"
     },
     "output_type": "display_data"
    }
   ],
   "source": [
    "plot_confusion_matrix(model2, X_val, y_val)"
   ]
  },
  {
   "cell_type": "code",
   "execution_count": 17,
   "id": "fatty-assurance",
   "metadata": {},
   "outputs": [
    {
     "name": "stdout",
     "output_type": "stream",
     "text": [
      "              precision    recall  f1-score   support\n",
      "\n",
      "           0       1.00      0.98      0.99        42\n",
      "           1       0.99      1.00      0.99        78\n",
      "\n",
      "    accuracy                           0.99       120\n",
      "   macro avg       0.99      0.99      0.99       120\n",
      "weighted avg       0.99      0.99      0.99       120\n",
      "\n"
     ]
    }
   ],
   "source": [
    "y_preds = model2.predict(X_val)\n",
    "print(classification_report(y_val, y_preds))"
   ]
  },
  {
   "cell_type": "code",
   "execution_count": 18,
   "id": "asian-intention",
   "metadata": {},
   "outputs": [
    {
     "data": {
      "image/png": "[encoded data removed]",
      "text/plain": [
       "<Figure size 432x288 with 1 Axes>"
      ]
     },
     "metadata": {
      "needs_background": "light"
     },
     "output_type": "display_data"
    }
   ],
   "source": [
    "plot_roc_curve(model2, X_val, y_val);"
   ]
  },
  {
   "cell_type": "markdown",
   "id": "frequent-franklin",
   "metadata": {},
   "source": [
    "## Save the model\n",
    "Finally, we will save this model in case we want to use it later."
   ]
  },
  {
   "cell_type": "code",
   "execution_count": 19,
   "id": "posted-biotechnology",
   "metadata": {},
   "outputs": [
    {
     "data": {
      "text/plain": [
       "['chronic-kidney-disease-model.joblib']"
      ]
     },
     "execution_count": 19,
     "metadata": {},
     "output_type": "execute_result"
    }
   ],
   "source": [
    "from joblib import dump, load\n",
    "dump(model2, 'chronic-kidney-disease-model.joblib')"
   ]
  },
  {
   "cell_type": "code",
   "execution_count": 20,
   "id": "intimate-evidence",
   "metadata": {},
   "outputs": [],
   "source": [
    "#loaded_model = load('chronic-kidney-disease-model.joblib') "
   ]
  }
 ],
 "metadata": {
  "kernelspec": {
   "display_name": "Python 3",
   "language": "python",
   "name": "python3"
  },
  "language_info": {
   "codemirror_mode": {
    "name": "ipython",
    "version": 3
   },
   "file_extension": ".py",
   "mimetype": "text/x-python",
   "name": "python",
   "nbconvert_exporter": "python",
   "pygments_lexer": "ipython3",
   "version": "3.9.1"
  }
 },
 "nbformat": 4,
 "nbformat_minor": 5
}
